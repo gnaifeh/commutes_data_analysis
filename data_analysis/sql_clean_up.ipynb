{
 "cells": [
  {
   "cell_type": "markdown",
   "metadata": {},
   "source": [
    "# Final Project: Phase 2: SQL Cleanup"
   ]
  },
  {
   "cell_type": "markdown",
   "metadata": {},
   "source": [
    "####Import key libraries and data file with information to connect to MySQL"
   ]
  },
  {
   "cell_type": "code",
   "execution_count": 1,
   "metadata": {
    "collapsed": false
   },
   "outputs": [],
   "source": [
    "import numpy as np\n",
    "import pandas as pd\n",
    "import MySQLdb as mdb\n",
    "import MySQL_data_file as MySQL_data"
   ]
  },
  {
   "cell_type": "markdown",
   "metadata": {},
   "source": [
    "####Create connection object \"con\" for accessing databases:"
   ]
  },
  {
   "cell_type": "code",
   "execution_count": 2,
   "metadata": {
    "collapsed": true
   },
   "outputs": [],
   "source": [
    "con = mdb.connect(MySQL_data.my_sql_host, MySQL_data.my_sql_user,\\\n",
    "                    MySQL_data.my_sql_passwd,\\\n",
    "                    MySQL_data.my_sql_database)\n",
    "#con.close"
   ]
  },
  {
   "cell_type": "markdown",
   "metadata": {},
   "source": [
    "####Define key functions for querying information from MySQL databases:"
   ]
  },
  {
   "cell_type": "code",
   "execution_count": 3,
   "metadata": {
    "collapsed": false
   },
   "outputs": [],
   "source": [
    "def table_information(table_name, columns_only=False):\n",
    "    \"\"\"\n",
    "    Function returns table information. Will return list of columns if columns_only is set\n",
    "    \"\"\"\n",
    "    cur = con.cursor()\n",
    "    cur.execute(\"DESCRIBE {}\".format(table_name))\n",
    "    if columns_only == False:\n",
    "        return [x for x in cur.fetchall()]\n",
    "    else:\n",
    "        #column_list = []\n",
    "        return [row[0:1][0] for row in cur.fetchall()]      \n",
    "#table_information('mmaps_data', True)"
   ]
  },
  {
   "cell_type": "code",
   "execution_count": 4,
   "metadata": {
    "collapsed": false
   },
   "outputs": [],
   "source": [
    "def run_sql(query):\n",
    "    cur = con.cursor()\n",
    "    cur.execute(query)\n",
    "    con.commit()\n",
    "    #con.close()\n",
    "    return cur.fetchall()"
   ]
  },
  {
   "cell_type": "markdown",
   "metadata": {},
   "source": [
    "####Initial Test Queries"
   ]
  },
  {
   "cell_type": "code",
   "execution_count": 29,
   "metadata": {
    "collapsed": false,
    "scrolled": true
   },
   "outputs": [
    {
     "data": {
      "text/plain": [
       "((19080L,),)"
      ]
     },
     "execution_count": 29,
     "metadata": {},
     "output_type": "execute_result"
    }
   ],
   "source": [
    "#run_sql(\"\"\"SHOW TABLES\"\"\")\n",
    "#run_sql(\"\"\"SELECT datetime,origins,destinations,duration FROM gmaps_data\"\"\")\n",
    "#table_count = run_sql(\"\"\"SELECT COUNT(*) FROM mmaps_data\"\"\")\n",
    "#table_count"
   ]
  },
  {
   "cell_type": "markdown",
   "metadata": {},
   "source": [
    "####Adjusting Date and Time Formats in Python"
   ]
  },
  {
   "cell_type": "code",
   "execution_count": 321,
   "metadata": {
    "collapsed": false
   },
   "outputs": [],
   "source": [
    "#Converting datetime to ISO format in Python\n",
    "sample_dt_object = run_sql(\"\"\"SELECT datetime FROM gmaps_data limit 1\"\"\")\n",
    "sample_dt_object_iso = sample_dt_object[0][0].isoformat(\" \")\n",
    "#sample_dt_object_iso"
   ]
  },
  {
   "cell_type": "markdown",
   "metadata": {},
   "source": [
    "####Adjusting Date and Time Formats in SQL"
   ]
  },
  {
   "cell_type": "code",
   "execution_count": 323,
   "metadata": {
    "collapsed": false
   },
   "outputs": [],
   "source": [
    "#Working with timestamps and time functions in SQL\n",
    "#run_sql(\"\"\"SELECT CURRENT_TIMESTAMP\"\"\")#or NOW() or CURRENT_TIMESTAMP()\n",
    "#run_sql(\"\"\"SELECT HOUR(datetime) FROM gmaps_data limit 10\"\"\")\n",
    "#run_sql(\"\"\"SELECT UNIX_TIMESTAMP(datetime) FROM gmaps_data limit 10\"\"\")\n",
    "#run_sql(\"\"\"SELECT GET_FORMAT(datetime, 'ISO') FROM gmaps_data limit 1\"\"\")"
   ]
  },
  {
   "cell_type": "code",
   "execution_count": 325,
   "metadata": {
    "collapsed": false
   },
   "outputs": [],
   "source": [
    "#retrieving time data in ISO format (through SQL)\n",
    "#run_sql(\"\"\"SELECT DATE_FORMAT(datetime, '%Y-%m-%d %H:%i:%s') FROM gmaps_data limit 3\"\"\")\n",
    "#converting to PST time zone\n",
    "#run_sql(\"\"\"SELECT CONVERT_TZ(DATE_FORMAT(datetime, '%Y-%m-%d %H:%i:%s'),'+00:00','-07:00') FROM gmaps_data limit 1\"\"\")"
   ]
  },
  {
   "cell_type": "code",
   "execution_count": 10,
   "metadata": {
    "collapsed": false
   },
   "outputs": [
    {
     "data": {
      "text/plain": [
       "(('2015-05-02 11:00:02',\n",
       "  'Pacific Heights, San Francisco, CA',\n",
       "  'Oakland, CA',\n",
       "  2005L),)"
      ]
     },
     "execution_count": 10,
     "metadata": {},
     "output_type": "execute_result"
    }
   ],
   "source": [
    "#NOTE: this is an effective way to convert to ISO format\n",
    "run_sql(\"\"\"SELECT DATE_FORMAT(datetime, '%Y-%m-%d %H:%i:%s'),origins,destinations,duration_traffic \n",
    "        FROM mmaps_data\n",
    "        WHERE datetime BETWEEN '2015-05-02 11:00:00' AND '2015-05-02 11:14:00'\n",
    "        AND origins LIKE 'Pac%'\n",
    "        LIMIT 1\n",
    "        \"\"\")"
   ]
  },
  {
   "cell_type": "markdown",
   "metadata": {},
   "source": [
    "####Two different ways to look at the same route between two locations (morning commute and afternoon return commutes"
   ]
  },
  {
   "cell_type": "markdown",
   "metadata": {},
   "source": [
    "<p>The code below shows Google Maps transit data between 4am and 11am on Saturday May 2, traveling from Pac Heights to Financial District</p>"
   ]
  },
  {
   "cell_type": "code",
   "execution_count": 129,
   "metadata": {
    "collapsed": false
   },
   "outputs": [
    {
     "data": {
      "text/plain": [
       "58"
      ]
     },
     "execution_count": 129,
     "metadata": {},
     "output_type": "execute_result"
    }
   ],
   "source": [
    "#The code below shows transit data between 4am and 11am on Saturday May 2 \n",
    "#traveling from Pac Heights to Financial District\n",
    "len(run_sql(\"\"\"SELECT DATE_FORMAT(datetime, '%Y-%m-%d %H:%i:%s'),origins,destinations,duration_traffic \n",
    "        FROM mmaps_data\n",
    "        WHERE \n",
    "            ((datetime BETWEEN '2015-05-01 11:00:00' AND '2015-05-01 18:01:00')\n",
    "            OR \n",
    "            (datetime BETWEEN '2015-05-01 21:00:00' AND '2015-05-02 04:01:00'))\n",
    "        AND \n",
    "            ((origins LIKE 'Pac%' AND destinations LIKE 'Fin%')\n",
    "            OR \n",
    "            (origins LIKE 'Fin%'and destinations LIKE 'Pac%'))\n",
    "        ORDER BY datetime\n",
    "        \"\"\"))"
   ]
  },
  {
   "cell_type": "markdown",
   "metadata": {},
   "source": [
    "<p>The code below is a different style but produces the same result as the SQL statement above.<br />\n",
    "It shows transit data between 4am and 11am on Saturday May 2, traveling from Pac Heights to Financial District</p>"
   ]
  },
  {
   "cell_type": "code",
   "execution_count": 32,
   "metadata": {
    "collapsed": false
   },
   "outputs": [
    {
     "data": {
      "text/plain": [
       "58"
      ]
     },
     "execution_count": 32,
     "metadata": {},
     "output_type": "execute_result"
    }
   ],
   "source": [
    "len(run_sql(\"\"\"SELECT DATE_FORMAT(datetime, '%Y-%m-%d %H:%i:%s'),origins,destinations,duration_traffic \n",
    "        FROM mmaps_data\n",
    "        WHERE \n",
    "        ((datetime BETWEEN '2015-05-01 11:00:00' AND '2015-05-01 18:01:00')\n",
    "        AND (origins LIKE 'Pac%') AND (destinations LIKE 'Fin%')) \n",
    "        OR\n",
    "        ((datetime BETWEEN '2015-05-01 21:00:00' AND '2015-05-02 04:01:00')\n",
    "        AND (origins LIKE 'Fin%') AND (destinations LIKE 'Pac%')) \n",
    "        ORDER BY datetime\n",
    "        \"\"\"))"
   ]
  },
  {
   "cell_type": "markdown",
   "metadata": {},
   "source": [
    "####Ordering Results by Hours/Minutes/Seconds in order to view travel duration values from multiple days in consecutive rows:"
   ]
  },
  {
   "cell_type": "markdown",
   "metadata": {},
   "source": [
    "<p>The following SQL command examines a specific route (and its return trip), ordering the results by hours/minutes/seconds, effectively mapping multiple days worth of data onto a single 24 hour scale. At certain intervals in this 24 hour period (e.g. every 15 minutes from 4AM to 11AM and 2AM to 9PM), we have multiple datapoints (travel duration values)--each representing a specific day in which data was collected.<br />\n",
    "<p>NOTE: Due to UTC formatting, the code below displays a route (and its return trip) out of order. In order to set everything chronologically, one would need to locally adjust the time zone.</p>"
   ]
  },
  {
   "cell_type": "code",
   "execution_count": 7,
   "metadata": {
    "collapsed": false
   },
   "outputs": [
    {
     "data": {
      "text/plain": [
       "704"
      ]
     },
     "execution_count": 7,
     "metadata": {},
     "output_type": "execute_result"
    }
   ],
   "source": [
    "len(run_sql(\"\"\"SELECT DATE_FORMAT(datetime, '%Y-%m-%d %H:%i:%s'),origins,destinations,duration_traffic \n",
    "        FROM mmaps_data\n",
    "        WHERE \n",
    "        ((TIME(datetime) BETWEEN '11:00:00' AND '18:01:00')\n",
    "        AND (origins LIKE 'Pac%') AND (destinations LIKE 'Fin%')) \n",
    "        OR\n",
    "        ((TIME(datetime) BETWEEN '21:00:00' AND '24:00:00' OR\n",
    "        (TIME(datetime) BETWEEN '00:00:00' AND '04:01:00'))\n",
    "        AND (origins LIKE 'Fin%') AND (destinations LIKE 'Pac%'))\n",
    "        ORDER BY HOUR(datetime), MINUTE(datetime), DATE(datetime)\n",
    "        \"\"\"))"
   ]
  },
  {
   "cell_type": "markdown",
   "metadata": {},
   "source": [
    "Given the UTC time zone issue above, I've decided to set the following code to display morning driving times only (not the return trip) for the commute from pac heights to the financial district in SF."
   ]
  },
  {
   "cell_type": "code",
   "execution_count": 35,
   "metadata": {
    "collapsed": false
   },
   "outputs": [
    {
     "data": {
      "text/plain": [
       "377"
      ]
     },
     "execution_count": 35,
     "metadata": {},
     "output_type": "execute_result"
    }
   ],
   "source": [
    "#Took the code from above and specified the query such that we are looking\n",
    "#at the morning driving times for the commute from pac heights to financial district\n",
    "len(run_sql(\"\"\"SELECT DATE_FORMAT(datetime, '%Y-%m-%d %H:%i:%s'),origins,destinations,duration_traffic\n",
    "        FROM mmaps_data\n",
    "        WHERE \n",
    "        ((TIME(datetime) BETWEEN '11:00:00' AND '18:01:00')\n",
    "        AND (origins LIKE 'Pac%') AND (destinations LIKE 'Fin%'))\n",
    "        ORDER BY HOUR(datetime), MINUTE(datetime), DATE(datetime)\n",
    "        \"\"\"))"
   ]
  },
  {
   "cell_type": "markdown",
   "metadata": {},
   "source": [
    "####Normalizing the strings used to represent origins/destinations for each API (Google and Bing)"
   ]
  },
  {
   "cell_type": "markdown",
   "metadata": {},
   "source": [
    "<p>The following checks to see how the origins and destinations are represented for the two APIs</p>"
   ]
  },
  {
   "cell_type": "code",
   "execution_count": 45,
   "metadata": {
    "collapsed": false
   },
   "outputs": [],
   "source": [
    "#run_sql(\"\"\"select DISTINCT origins from gmaps_data\"\"\")\n",
    "#run_sql(\"\"\"select DISTINCT destinations from gmaps_data\"\"\")\n",
    "#run_sql(\"\"\"select DISTINCT origins from mmaps_data\"\"\")\n",
    "#run_sql(\"\"\"select DISTINCT destinations from mmaps_data\"\"\")"
   ]
  },
  {
   "cell_type": "markdown",
   "metadata": {},
   "source": [
    "<p>The following updates the MySQL tables, effectively normalizing origin and destination string values</p>"
   ]
  },
  {
   "cell_type": "code",
   "execution_count": 53,
   "metadata": {
    "collapsed": false
   },
   "outputs": [
    {
     "name": "stdout",
     "output_type": "stream",
     "text": [
      "NOTE: Intend to normalize location string values using pandas (although it is possible with SQL)\n"
     ]
    }
   ],
   "source": [
    "'''\n",
    "run_sql(\"\"\"UPDATE gmaps_data\n",
    "        SET destinations=(SELECT DISTINCT destinations FROM mmaps_data WHERE destinations LIKE 'North%')\n",
    "        WHERE destinations LIKE 'North%'\n",
    "        \"\"\")\n",
    "'''\n",
    "print \"NOTE: Intend to normalize location string values using pandas (although it is possible with SQL)\""
   ]
  },
  {
   "cell_type": "markdown",
   "metadata": {
    "collapsed": true
   },
   "source": [
    "####Joining tables with SQL (union including all values from both tables)"
   ]
  },
  {
   "cell_type": "markdown",
   "metadata": {},
   "source": [
    "<P>NOTE: Using an SQL Union is not preferrable because you cannot ORDER BY datetime without error</P>"
   ]
  },
  {
   "cell_type": "code",
   "execution_count": 270,
   "metadata": {
    "collapsed": false
   },
   "outputs": [
    {
     "data": {
      "text/plain": [
       "464"
      ]
     },
     "execution_count": 270,
     "metadata": {},
     "output_type": "execute_result"
    }
   ],
   "source": [
    "len(run_sql(\"\"\"SELECT DATE_FORMAT(datetime, '%Y-%m-%d %H:%i:%s'),origins,destinations,duration_traffic,travel_mode\n",
    "        FROM mmaps_data\n",
    "        WHERE \n",
    "        ((TIME(datetime) BETWEEN '11:00:00' AND '18:01:00')\n",
    "        AND (origins LIKE 'Pac%') AND (destinations LIKE 'Fin%'))\n",
    "        UNION ALL\n",
    "        SELECT DATE_FORMAT(datetime, '%Y-%m-%d %H:%i:%s'),origins,destinations,duration,travel_mode\n",
    "        FROM gmaps_data\n",
    "        WHERE \n",
    "        ((TIME(datetime) BETWEEN '11:00:00' AND '18:01:00')\n",
    "        AND (origins LIKE 'Pac%') AND (destinations LIKE 'Fin%'))\n",
    "        \"\"\"))"
   ]
  },
  {
   "cell_type": "markdown",
   "metadata": {
    "collapsed": false,
    "scrolled": true
   },
   "source": [
    "####Using AVG() AND GROUP BY  to see average travel times at each interval"
   ]
  },
  {
   "cell_type": "code",
   "execution_count": 55,
   "metadata": {
    "collapsed": false
   },
   "outputs": [
    {
     "data": {
      "text/plain": [
       "(('11:00', 'Berkeley, CA', 'Mountain View, CA', Decimal('58.75128205')),)"
      ]
     },
     "execution_count": 55,
     "metadata": {},
     "output_type": "execute_result"
    }
   ],
   "source": [
    "run_sql(\"\"\"SELECT DATE_FORMAT(datetime,'%H:%i') as datetime, origins, destinations, AVG(duration_traffic) / 60 as MINUTES\n",
    "        FROM mmaps_data\n",
    "        WHERE \n",
    "        ((TIME(datetime) BETWEEN '11:00:00' AND '18:01:00')\n",
    "        AND (origins LIKE 'Berk%') AND (destinations LIKE 'Moun%'))\n",
    "        GROUP BY HOUR(datetime), MINUTE(datetime)\n",
    "        ORDER BY HOUR(datetime), MINUTE(datetime), DATE(datetime)\n",
    "        LIMIT 1\n",
    "        \"\"\")"
   ]
  },
  {
   "cell_type": "markdown",
   "metadata": {},
   "source": [
    "####Reading SQL into pandas DataFrame (example)"
   ]
  },
  {
   "cell_type": "code",
   "execution_count": 57,
   "metadata": {
    "collapsed": false
   },
   "outputs": [
    {
     "data": {
      "text/html": [
       "<div style=\"max-height:1000px;max-width:1500px;overflow:auto;\">\n",
       "<table border=\"1\" class=\"dataframe\">\n",
       "  <thead>\n",
       "    <tr style=\"text-align: right;\">\n",
       "      <th></th>\n",
       "      <th>datetime</th>\n",
       "      <th>origins</th>\n",
       "      <th>destinations</th>\n",
       "      <th>MINUTES</th>\n",
       "    </tr>\n",
       "  </thead>\n",
       "  <tbody>\n",
       "    <tr>\n",
       "      <th>0</th>\n",
       "      <td> 11:00</td>\n",
       "      <td>                        Berkeley, CA</td>\n",
       "      <td> Financial District, San Francisco, CA</td>\n",
       "      <td> 26.282051</td>\n",
       "    </tr>\n",
       "    <tr>\n",
       "      <th>1</th>\n",
       "      <td> 11:00</td>\n",
       "      <td>                        Berkeley, CA</td>\n",
       "      <td>                     Mountain View, CA</td>\n",
       "      <td> 58.751282</td>\n",
       "    </tr>\n",
       "    <tr>\n",
       "      <th>2</th>\n",
       "      <td> 11:00</td>\n",
       "      <td>                        Berkeley, CA</td>\n",
       "      <td>                           Oakland, CA</td>\n",
       "      <td> 16.617949</td>\n",
       "    </tr>\n",
       "    <tr>\n",
       "      <th>3</th>\n",
       "      <td> 11:00</td>\n",
       "      <td> Mission District, San Francisco, CA</td>\n",
       "      <td> Financial District, San Francisco, CA</td>\n",
       "      <td> 22.721795</td>\n",
       "    </tr>\n",
       "    <tr>\n",
       "      <th>4</th>\n",
       "      <td> 11:00</td>\n",
       "      <td> Mission District, San Francisco, CA</td>\n",
       "      <td>                     Mountain View, CA</td>\n",
       "      <td> 42.869231</td>\n",
       "    </tr>\n",
       "  </tbody>\n",
       "</table>\n",
       "</div>"
      ],
      "text/plain": [
       "  datetime                              origins  \\\n",
       "0    11:00                         Berkeley, CA   \n",
       "1    11:00                         Berkeley, CA   \n",
       "2    11:00                         Berkeley, CA   \n",
       "3    11:00  Mission District, San Francisco, CA   \n",
       "4    11:00  Mission District, San Francisco, CA   \n",
       "\n",
       "                            destinations    MINUTES  \n",
       "0  Financial District, San Francisco, CA  26.282051  \n",
       "1                      Mountain View, CA  58.751282  \n",
       "2                            Oakland, CA  16.617949  \n",
       "3  Financial District, San Francisco, CA  22.721795  \n",
       "4                      Mountain View, CA  42.869231  "
      ]
     },
     "execution_count": 57,
     "metadata": {},
     "output_type": "execute_result"
    }
   ],
   "source": [
    "test_df = pd.read_sql(\"\"\"SELECT DATE_FORMAT(datetime,'%H:%i') as datetime, origins, destinations, AVG(duration_traffic) / 60 as MINUTES\n",
    "        FROM mmaps_data\n",
    "        WHERE \n",
    "        (TIME(datetime) BETWEEN '11:00:00' AND '18:01:00')\n",
    "        GROUP BY origins,destinations,HOUR(datetime), MINUTE(datetime)\n",
    "        ORDER BY HOUR(datetime), MINUTE(datetime),origins,destinations\n",
    "        \"\"\", con)\n",
    "test_df.head(5)"
   ]
  },
  {
   "cell_type": "markdown",
   "metadata": {},
   "source": [
    "####Reading and Combining Two SQL Tables Into pandas DataFrame"
   ]
  },
  {
   "cell_type": "code",
   "execution_count": 98,
   "metadata": {
    "collapsed": false,
    "scrolled": true
   },
   "outputs": [
    {
     "name": "stdout",
     "output_type": "stream",
     "text": [
      "<class 'pandas.core.frame.DataFrame'>\n",
      "Int64Index: 29628 entries, 0 to 29627\n",
      "Data columns (total 9 columns):\n",
      "entry_id        29628 non-null int64\n",
      "timestamp       29628 non-null datetime64[ns]\n",
      "datetime        29628 non-null datetime64[ns]\n",
      "origins         29628 non-null object\n",
      "destinations    29628 non-null object\n",
      "travel_mode     29628 non-null object\n",
      "duration        29454 non-null float64\n",
      "distance        29454 non-null float64\n",
      "fare            17128 non-null float64\n",
      "dtypes: datetime64[ns](2), float64(3), int64(1), object(3)\n",
      "memory usage: 2.3+ MB\n"
     ]
    }
   ],
   "source": [
    "gmaps_df = pd.read_sql(\"\"\"SELECT entry_id,timestamp,datetime,origins,destinations,travel_mode,duration,distance,fare\n",
    "                        FROM gmaps_data\"\"\",con)\n",
    "gmaps_df.info()"
   ]
  },
  {
   "cell_type": "code",
   "execution_count": 89,
   "metadata": {
    "collapsed": false
   },
   "outputs": [
    {
     "name": "stdout",
     "output_type": "stream",
     "text": [
      "<class 'pandas.core.frame.DataFrame'>\n",
      "Int64Index: 19080 entries, 0 to 19079\n",
      "Data columns (total 9 columns):\n",
      "entry_id            19080 non-null int64\n",
      "timestamp           19080 non-null datetime64[ns]\n",
      "datetime            19080 non-null datetime64[ns]\n",
      "origins             19080 non-null object\n",
      "destinations        19080 non-null object\n",
      "travel_mode         19080 non-null object\n",
      "duration_traffic    19080 non-null int64\n",
      "distance            19080 non-null int64\n",
      "congestion          19080 non-null object\n",
      "dtypes: datetime64[ns](2), int64(3), object(4)\n",
      "memory usage: 1.5+ MB\n"
     ]
    }
   ],
   "source": [
    "bing_df = pd.read_sql(\"\"\"SELECT entry_id,timestamp,datetime,origins,destinations,travel_mode,duration_traffic,distance,congestion\n",
    "                        FROM mmaps_data\"\"\",con)\n",
    "bing_df.info()   "
   ]
  },
  {
   "cell_type": "code",
   "execution_count": 90,
   "metadata": {
    "collapsed": false
   },
   "outputs": [],
   "source": [
    "#changing the bing maps \"duration_traffic\" column to \"duration\" in order to match up the column with the gmaps_df\n",
    "bing_df.columns = [u'entry_id', u'timestamp', u'datetime', u'origins', u'destinations', u'travel_mode', u'duration', u'distance', u'congestion']"
   ]
  },
  {
   "cell_type": "code",
   "execution_count": 91,
   "metadata": {
    "collapsed": false
   },
   "outputs": [],
   "source": [
    "combined_df = gmaps_df.merge(bing_df, how='outer')"
   ]
  },
  {
   "cell_type": "code",
   "execution_count": 92,
   "metadata": {
    "collapsed": false
   },
   "outputs": [],
   "source": [
    "combined_df = combined_df.copy()"
   ]
  },
  {
   "cell_type": "code",
   "execution_count": 93,
   "metadata": {
    "collapsed": false
   },
   "outputs": [
    {
     "name": "stdout",
     "output_type": "stream",
     "text": [
      "<class 'pandas.core.frame.DataFrame'>\n",
      "Int64Index: 48708 entries, 0 to 48707\n",
      "Data columns (total 10 columns):\n",
      "entry_id        48708 non-null float64\n",
      "timestamp       48708 non-null datetime64[ns]\n",
      "datetime        48708 non-null datetime64[ns]\n",
      "origins         48708 non-null object\n",
      "destinations    48708 non-null object\n",
      "travel_mode     48708 non-null object\n",
      "duration        48534 non-null float64\n",
      "distance        48534 non-null float64\n",
      "fare            17128 non-null float64\n",
      "congestion      19080 non-null object\n",
      "dtypes: datetime64[ns](2), float64(4), object(4)\n",
      "memory usage: 4.1+ MB\n"
     ]
    }
   ],
   "source": [
    "combined_df.info()"
   ]
  },
  {
   "cell_type": "code",
   "execution_count": null,
   "metadata": {
    "collapsed": false
   },
   "outputs": [],
   "source": []
  },
  {
   "cell_type": "code",
   "execution_count": null,
   "metadata": {
    "collapsed": true
   },
   "outputs": [],
   "source": []
  }
 ],
 "metadata": {
  "kernelspec": {
   "display_name": "Python 2",
   "language": "python",
   "name": "python2"
  },
  "language_info": {
   "codemirror_mode": {
    "name": "ipython",
    "version": 2
   },
   "file_extension": ".py",
   "mimetype": "text/x-python",
   "name": "python",
   "nbconvert_exporter": "python",
   "pygments_lexer": "ipython2",
   "version": "2.7.9"
  }
 },
 "nbformat": 4,
 "nbformat_minor": 0
}
