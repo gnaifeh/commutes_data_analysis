{
 "cells": [
  {
   "cell_type": "code",
   "execution_count": 7,
   "metadata": {
    "collapsed": false
   },
   "outputs": [],
   "source": [
    "import query_data_file\n",
    "import json\n",
    "import urllib\n",
    "import urllib2"
   ]
  },
  {
   "cell_type": "code",
   "execution_count": null,
   "metadata": {
    "collapsed": true
   },
   "outputs": [],
   "source": [
    "#Geocoding API dashboard\n",
    "#https://console.developers.google.com/project/915674655832/apiui/apiview/geocoding_backend/overview"
   ]
  },
  {
   "cell_type": "code",
   "execution_count": null,
   "metadata": {
    "collapsed": true
   },
   "outputs": [],
   "source": [
    "https://maps.googleapis.com/maps/api/geocode/json?\\\n",
    "address=1600+Amphitheatre+Parkway,+Mountain+View,+CA&key=API_KEY"
   ]
  },
  {
   "cell_type": "code",
   "execution_count": 11,
   "metadata": {
    "collapsed": false
   },
   "outputs": [],
   "source": [
    "api_key = query_data_file.gmaps_api_key\n",
    "def queryGmapsGeo(location, api_key):\n",
    "    gmaps_query = urllib2.urlopen(\"\"\"\\\n",
    "    https://maps.googleapis.com/maps/api/geocode/json?\\\n",
    "address={}&\\\n",
    "key={}\"\"\".format(location, api_key))\n",
    "    query_result = json.loads(gmaps_query.read())\n",
    "    return query_result"
   ]
  },
  {
   "cell_type": "code",
   "execution_count": 8,
   "metadata": {
    "collapsed": false
   },
   "outputs": [],
   "source": [
    "russian_hill = \"Russian Hill, San Francisco, CA\"\n",
    "north_beach = \"North Beach, San Francisco, CA\"\n",
    "pacific_heights = \"Pacific Heights, San Francisco, CA\"\n",
    "outer_richmond = \"Outer Richmond, San+Francisco, CA\"\n",
    "outer_sunset = \"Outer Sunset, San Francisco, CA\"\n",
    "mission_district = \"Mission District, San Francisco, CA\"\n",
    "noe_valley = \"Noe Valley, San+Francisco, CA\"\n",
    "\n",
    "oakland = \"Oakland, CA\"\n",
    "berkeley = \"Berkeley, CA\"\n",
    "\n",
    "soma_district = \"SoMA, San Francisco, CA\"\n",
    "financial_district = \"Financial District, San Francisco, CA\"\n",
    "mountain_view = \"Mountain View, CA\"\n",
    "\n",
    "residential_neighborhoods = [russian_hill, north_beach, pacific_heights, outer_richmond,\\\n",
    "                            outer_sunset, mission_district, noe_valley,\\\n",
    "                            oakland, berkeley]\n",
    "work_districts = [oakland, financial_district, mountain_view]"
   ]
  },
  {
   "cell_type": "code",
   "execution_count": 9,
   "metadata": {
    "collapsed": false
   },
   "outputs": [],
   "source": [
    "work_coordinates = []\n",
    "residential_coordinates = []"
   ]
  },
  {
   "cell_type": "code",
   "execution_count": 12,
   "metadata": {
    "collapsed": false
   },
   "outputs": [],
   "source": [
    "residential_coordinates = []\n",
    "for neighborhood in residential_neighborhoods:  \n",
    "    location = urllib.quote_plus(neighborhood)\n",
    "    query_result = queryGmapsGeo(location, api_key)\n",
    "    lat = query_result['results'][0]['geometry']['location']['lat']\n",
    "    lng = query_result['results'][0]['geometry']['location']['lng']\n",
    "    coordinates = str(lat) + ',' + str(lng)\n",
    "    residential_coordinates.append(coordinates)"
   ]
  },
  {
   "cell_type": "code",
   "execution_count": 15,
   "metadata": {
    "collapsed": false
   },
   "outputs": [
    {
     "name": "stdout",
     "output_type": "stream",
     "text": [
      "['37.8010963,-122.4195558', '37.8060532,-122.4103311', '37.7925153,-122.4382307', '37.777677,-122.49531', '37.755445,-122.494069', '37.7598648,-122.4147977', '37.7502378,-122.4337029', '37.8043637,-122.2711137', '37.8715926,-122.272747']\n"
     ]
    }
   ],
   "source": [
    "print residential_coordinates"
   ]
  },
  {
   "cell_type": "code",
   "execution_count": 116,
   "metadata": {
    "collapsed": false
   },
   "outputs": [
    {
     "name": "stdout",
     "output_type": "stream",
     "text": [
      "['37.8043637,-122.2711137', '37.7945742,-122.3999445', '37.3860517,-122.0838511']\n"
     ]
    }
   ],
   "source": [
    "print work_coordinates"
   ]
  },
  {
   "cell_type": "code",
   "execution_count": null,
   "metadata": {
    "collapsed": true
   },
   "outputs": [],
   "source": []
  }
 ],
 "metadata": {
  "kernelspec": {
   "display_name": "Python 2",
   "language": "python",
   "name": "python2"
  },
  "language_info": {
   "codemirror_mode": {
    "name": "ipython",
    "version": 2
   },
   "file_extension": ".py",
   "mimetype": "text/x-python",
   "name": "python",
   "nbconvert_exporter": "python",
   "pygments_lexer": "ipython2",
   "version": "2.7.9"
  }
 },
 "nbformat": 4,
 "nbformat_minor": 0
}
