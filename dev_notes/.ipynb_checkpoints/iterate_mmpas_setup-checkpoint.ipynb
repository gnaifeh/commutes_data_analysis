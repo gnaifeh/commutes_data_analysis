{
 "cells": [
  {
   "cell_type": "code",
   "execution_count": 261,
   "metadata": {
    "collapsed": true
   },
   "outputs": [],
   "source": [
    "import json\n",
    "import urllib\n",
    "import urllib2\n",
    "#import pandas as pd\n",
    "import numpy as np\n",
    "from numpy import division\n",
    "import MySQLdb as mdb\n",
    "from datetime import datetime\n",
    "import MySQL_data_file as MySQL_data\n",
    "import query_data_file"
   ]
  },
  {
   "cell_type": "code",
   "execution_count": 196,
   "metadata": {
    "collapsed": true
   },
   "outputs": [],
   "source": [
    "#connect to database and execute query\n",
    "#does not return anything\n",
    "def query_db(command):\n",
    "    con = mdb.connect(MySQL_data.my_sql_host, MySQL_data.my_sql_user, \\\n",
    "                        MySQL_data.my_sql_passwd,\\\n",
    "                        MySQL_data.my_sql_database)\n",
    "    cur = con.cursor()\n",
    "    cur.execute(command)\n",
    "    con.commit()\n",
    "    con.close()"
   ]
  },
  {
   "cell_type": "code",
   "execution_count": 267,
   "metadata": {
    "collapsed": false
   },
   "outputs": [],
   "source": [
    "#query the Bing maps API wiht a given origin and destination\n",
    "#returns a json object\n",
    "def queryMmaps(query_origin, query_destination, mmaps_api_key):\n",
    "    this_url = \"\"\"http://dev.virtualearth.net/REST/v1/Routes?\\\n",
    "wayPoint.1={}&wayPoint.2={}&key={}\"\"\".\\\n",
    "format(query_origin, query_destination, query_data_file.mmaps_api_key)\n",
    "    mmaps_query = urllib2.urlopen(this_url)\n",
    "    query_result = json.loads(mmaps_query.read())\n",
    "    return query_result"
   ]
  },
  {
   "cell_type": "code",
   "execution_count": 252,
   "metadata": {
    "collapsed": true
   },
   "outputs": [],
   "source": [
    "#russian_hill = \"Russian Hill, San Francisco, CA\"\n",
    "#north_beach = \"North Beach, San Francisco, CA\"\n",
    "pacific_heights = \"Pacific Heights, San Francisco, CA\"\n",
    "outer_richmond = \"Outer Richmond, San+Francisco, CA\"\n",
    "outer_sunset = \"Outer Sunset, San Francisco, CA\"\n",
    "mission_district = \"Mission District, San Francisco, CA\"\n",
    "noe_valley = \"Noe Valley, San+Francisco, CA\"\n",
    "berkeley = \"Berkeley, CA\"\n",
    "oakland = \"Oakland, CA\"\n",
    "financial_district = \"Financial District, San Francisco, CA\"\n",
    "mountain_view = \"Mountain View, CA\""
   ]
  },
  {
   "cell_type": "code",
   "execution_count": 253,
   "metadata": {
    "collapsed": true
   },
   "outputs": [],
   "source": [
    "residential_neighborhoods = [pacific_heights, outer_richmond,\\\n",
    "                            outer_sunset, mission_district, noe_valley,\\\n",
    "                            oakland, berkeley]\n",
    "work_neighborhoods = [oakland, financial_district, mountain_view]"
   ]
  },
  {
   "cell_type": "code",
   "execution_count": 254,
   "metadata": {
    "collapsed": true
   },
   "outputs": [],
   "source": [
    "residential_coordinates = ['37.7925153,-122.4382307', '37.777677,-122.49531', '37.755445,-122.494069', '37.7598648,-122.4147977', '37.7502378,-122.4337029', '37.8043637,-122.2711137', '37.8715926,-122.272747']\n",
    "work_coordinates = ['37.8043637,-122.2711137', '37.7945742,-122.3999445', '37.3860517,-122.0838511']"
   ]
  },
  {
   "cell_type": "code",
   "execution_count": 238,
   "metadata": {
    "collapsed": true
   },
   "outputs": [],
   "source": []
  },
  {
   "cell_type": "code",
   "execution_count": 265,
   "metadata": {
    "collapsed": false
   },
   "outputs": [],
   "source": [
    "def run_trip (start_neighborhoods, start_coordinates,\\\n",
    "                        end_neighborhoods, end_coordinates):\n",
    "    array_of_entries = np.array([])\n",
    "    for i in np.arange(len(start_neighborhoods)):\n",
    "        for n in np.arange(len(end_neighborhoods)):\n",
    "            if start_neighborhoods[i] != end_neighborhoods[n]:\n",
    "                query_origin = start_coordinates[i]\n",
    "                query_destination = end_coordinates[n]\n",
    "                mmaps_api_key = query_data_file.mmaps_api_key\n",
    "                query_time = datetime.now().isoformat(' ')\n",
    "                travel_mode = \"driving\"\n",
    "                query_result = queryMmaps(query_origin, query_destination, query_data_file.mmaps_api_key)\n",
    "                entry_array = createEntry(query_result, query_time,\\\n",
    "                                          start_neighborhoods[i], end_neighborhoods[n],\\\n",
    "                                          travel_mode)\n",
    "                array_of_entries = np.append(array_of_entries, entry_array, axis=0)\n",
    "    number_of_columns = 8\n",
    "    number_of_rows = (len(array_of_entries))/number_of_columns\n",
    "    array_of_entries = np.reshape(array_of_entries, (number_of_rows, number_of_columns))\n",
    "    saveToDatabase(array_of_entries)"
   ]
  },
  {
   "cell_type": "code",
   "execution_count": 268,
   "metadata": {
    "collapsed": false
   },
   "outputs": [],
   "source": [
    "run_trip(residential_neighborhoods, residential_coordinates, work_neighborhoods, work_coordinates)"
   ]
  },
  {
   "cell_type": "code",
   "execution_count": 89,
   "metadata": {
    "collapsed": false
   },
   "outputs": [],
   "source": []
  },
  {
   "cell_type": "code",
   "execution_count": 90,
   "metadata": {
    "collapsed": true
   },
   "outputs": [],
   "source": []
  },
  {
   "cell_type": "code",
   "execution_count": 199,
   "metadata": {
    "collapsed": false
   },
   "outputs": [],
   "source": [
    "#define a function that takes the json object and returns an np array to be entered into the database\n",
    "def createEntry(query_result, query_time, query_origin, query_destination, travel_mode):\n",
    "    if 'statusDescription' in query_result:\n",
    "        if mmaps_result['statusDescription'] != 'OK': \n",
    "            print \"There is an issue with the high level status description.\\\n",
    "                    It is currently listed as {}\".format(status_description)\n",
    "    travel_duration = \"NULL\"\n",
    "    travel_duration_traffic = \"NULL\"\n",
    "    travel_distance = \"NULL\"   \n",
    "    traffic_congestion = \"NULL\"\n",
    "    try:  \n",
    "        resource_sets_dict = query_result['resourceSets'][0]#use '0' as an index because the dictionary object is embedded in a list\n",
    "        resources_dict = resource_sets_dict['resources'][0]#use '0' as an index because the dictionary object is embedded in a list\n",
    "        if 'travelDuration' in resources_dict: \n",
    "            travel_duration = resources_dict['travelDuration']\n",
    "        if 'travelDurationTraffic' in resources_dict:\n",
    "            travel_duration_traffic = resources_dict['travelDurationTraffic']\n",
    "        if 'travelDistance' in resources_dict:\n",
    "            travel_distance = resources_dict['travelDistance'] \n",
    "        if 'trafficCongestion' in resources_dict:\n",
    "            traffic_congestion = resources_dict['trafficCongestion']\n",
    "    except:\n",
    "        print \"Exception triggered when trying to query 'resources_dict' object\"\n",
    "    entry_array = np.array([query_time, query_origin,\\\n",
    "                            query_destination, travel_mode, travel_duration,\\\n",
    "                            travel_duration_traffic, travel_distance,\\\n",
    "                            traffic_congestion])\n",
    "    return entry_array"
   ]
  },
  {
   "cell_type": "code",
   "execution_count": null,
   "metadata": {
    "collapsed": true
   },
   "outputs": [],
   "source": []
  },
  {
   "cell_type": "code",
   "execution_count": null,
   "metadata": {
    "collapsed": true
   },
   "outputs": [],
   "source": []
  },
  {
   "cell_type": "code",
   "execution_count": 99,
   "metadata": {
    "collapsed": true
   },
   "outputs": [],
   "source": []
  },
  {
   "cell_type": "code",
   "execution_count": 200,
   "metadata": {
    "collapsed": false
   },
   "outputs": [],
   "source": [
    "def saveToDatabase(array_of_entries):\n",
    "    for array in array_of_entries:\n",
    "        query_db(\"\"\"INSERT INTO mmaps_data_local\\\n",
    "                    (datetime,origins,destinations,travel_mode,duration,duration_traffic,distance,congestion)\n",
    "                    VALUES ('{}','{}','{}','{}',{},{},{},'{}')\"\"\"\\\n",
    "                    .format(array[0],array[1],array[2],array[3], array[4],array[5],array[6],array[7]))"
   ]
  },
  {
   "cell_type": "code",
   "execution_count": 225,
   "metadata": {
    "collapsed": false
   },
   "outputs": [],
   "source": [
    "query_time = datetime.now().isoformat(' ')\n",
    "\n",
    "array_of_entries = np.array([])\n",
    "\n",
    "#need function that queries mmaps api for each origin/destination pair\n",
    "mmaps_api_key = mmaps_data.api_key\n",
    "query_result = queryMmaps(query_origin, query_destination, mmaps_api_key)\n",
    "entry_array = createEntry(query_result, query_time, current_origins, current_destinations, travel_mode = 'driving')\n",
    "array_of_entries = np.append(array_of_entries, entry_array, axis=0)\n",
    "number_of_columns = 8\n",
    "number_of_rows = len(array_of_entries)/number_of_columns\n",
    "array_of_entries = np.reshape(array_of_entries, (number_of_rows, number_of_columns))\n",
    "saveToDatabase(array_of_entries)"
   ]
  },
  {
   "cell_type": "code",
   "execution_count": 174,
   "metadata": {
    "collapsed": true
   },
   "outputs": [],
   "source": []
  },
  {
   "cell_type": "code",
   "execution_count": null,
   "metadata": {
    "collapsed": true
   },
   "outputs": [],
   "source": []
  },
  {
   "cell_type": "code",
   "execution_count": null,
   "metadata": {
    "collapsed": true
   },
   "outputs": [],
   "source": []
  },
  {
   "cell_type": "code",
   "execution_count": null,
   "metadata": {
    "collapsed": true
   },
   "outputs": [],
   "source": []
  },
  {
   "cell_type": "code",
   "execution_count": null,
   "metadata": {
    "collapsed": true
   },
   "outputs": [],
   "source": []
  },
  {
   "cell_type": "code",
   "execution_count": null,
   "metadata": {
    "collapsed": true
   },
   "outputs": [],
   "source": []
  },
  {
   "cell_type": "code",
   "execution_count": 181,
   "metadata": {
    "collapsed": false
   },
   "outputs": [
    {
     "data": {
      "text/plain": [
       "\"\\nf = open('test_text_files/json1.txt', 'r')\\nmmaps_result = json.load(f)\\n#https://docs.python.org/2/tutorial/inputoutput.html\\nstatus_code = mmaps_result['statusCode']\\nstatus_description = mmaps_result['statusDescription']\\nresource_sets_dict = mmaps_result['resourceSets'][0]#use '0' as an index because the dictionary object is embedded in a list\\nresources_dict = resource_sets['resources'][0]#use '0' as an index because the dictionary object is embedded in a list\\n#resources_dict.keys()#this is where the valuable stuff is\\n#information to collect below\\ntraffic_condition = resources_dict['trafficCongestion']\\ntravel_duration = resources_dict['travelDuration']\\ntravel_duration_traffic = resources_dict['travelDurationTraffic']\\ntravel_distance = resources_dict['travelDistance']\\n#information to verify that correct locations were used in routing\\nroute_legs_dict = resources_dict['routeLegs'][0]#use '0' as an index because the dictionary object is embedded in a list\\nstart_location = route_legs_dict['startLocation']['name']\\nend_location = route_legs_dict['endLocation']['name']\\n#close the file\\nf.close()\\n\""
      ]
     },
     "execution_count": 181,
     "metadata": {},
     "output_type": "execute_result"
    }
   ],
   "source": [
    "#Working with JSON Sample File\n",
    "'''\n",
    "f = open('test_text_files/json1.txt', 'r')\n",
    "mmaps_result = json.load(f)\n",
    "#https://docs.python.org/2/tutorial/inputoutput.html\n",
    "status_code = mmaps_result['statusCode']\n",
    "status_description = mmaps_result['statusDescription']\n",
    "resource_sets_dict = mmaps_result['resourceSets'][0]#use '0' as an index because the dictionary object is embedded in a list\n",
    "resources_dict = resource_sets['resources'][0]#use '0' as an index because the dictionary object is embedded in a list\n",
    "#resources_dict.keys()#this is where the valuable stuff is\n",
    "#information to collect below\n",
    "traffic_condition = resources_dict['trafficCongestion']\n",
    "travel_duration = resources_dict['travelDuration']\n",
    "travel_duration_traffic = resources_dict['travelDurationTraffic']\n",
    "travel_distance = resources_dict['travelDistance']\n",
    "#information to verify that correct locations were used in routing\n",
    "route_legs_dict = resources_dict['routeLegs'][0]#use '0' as an index because the dictionary object is embedded in a list\n",
    "start_location = route_legs_dict['startLocation']['name']\n",
    "end_location = route_legs_dict['endLocation']['name']\n",
    "#close the file\n",
    "f.close()\n",
    "'''"
   ]
  },
  {
   "cell_type": "code",
   "execution_count": 180,
   "metadata": {
    "collapsed": false
   },
   "outputs": [
    {
     "data": {
      "text/plain": [
       "'\\nquery_db(\"\"\"CREATE TABLE mmaps_data_local (entry_id BIGINT UNSIGNED PRIMARY KEY NOT NULL AUTO_INCREMENT,\\ntimestamp TIMESTAMP DEFAULT CURRENT_TIMESTAMP ON UPDATE CURRENT_TIMESTAMP,\\ndatetime DATETIME,\\norigins VARCHAR(255),\\ndestinations VARCHAR(255),\\ntravel_mode VARCHAR(255),\\nduration INT,\\nduration_traffic INT,\\ndistance INT,\\ncongestion VARCHAR(255)\\n);\"\"\")\\n'"
      ]
     },
     "execution_count": 180,
     "metadata": {},
     "output_type": "execute_result"
    }
   ],
   "source": [
    "#MySQL Query for Setting Up mmaps_data database\n",
    "'''\n",
    "query_db(\"\"\"\\\n",
    "CREATE TABLE mmaps_data (entry_id BIGINT UNSIGNED PRIMARY KEY NOT NULL AUTO_INCREMENT,\n",
    "timestamp TIMESTAMP DEFAULT CURRENT_TIMESTAMP ON UPDATE CURRENT_TIMESTAMP,\n",
    "datetime DATETIME,\n",
    "origins VARCHAR(255),\n",
    "destinations VARCHAR(255),\n",
    "travel_mode VARCHAR(255),\n",
    "duration INT,\n",
    "duration_traffic INT,\n",
    "distance INT,\n",
    "congestion VARCHAR(255)\n",
    ");\"\"\")\n",
    "'''"
   ]
  },
  {
   "cell_type": "code",
   "execution_count": 179,
   "metadata": {
    "collapsed": false
   },
   "outputs": [
    {
     "data": {
      "text/plain": [
       "'\\nhttp://dev.virtualearth.net/REST/v1/Routes?wayPoint.1=wayPoint1&viaWaypoint.2=viaWaypoint2&waypoint.3=wayPoint3&wayPoint.n=wayPointn&heading=heading&optimize=optimize&avoid=avoidOptions&distanceBeforeFirstTurn=distanceBeforeFirstTurn&routeAttributes=routeAttributes&maxSolutions=maxSolutions&tolerances=tolerance1,tolerance2,tolerancen&distanceUnit=distanceUnit&mfa=mfa&key=BingMapsKey\\n'"
      ]
     },
     "execution_count": 179,
     "metadata": {},
     "output_type": "execute_result"
    }
   ],
   "source": [
    "#sample bing maps query\n",
    "'''\n",
    "http://dev.virtualearth.net/REST/v1/Routes?\\\n",
    "wayPoint.1=wayPoint1&\\\n",
    "viaWaypoint.2=viaWaypoint2&\\\n",
    "waypoint.3=wayPoint3&\\\n",
    "wayPoint.n=wayPointn&heading=heading&\\\n",
    "optimize=optimize&\\\n",
    "avoid=avoidOptions&\\\n",
    "distanceBeforeFirstTurn=distanceBeforeFirstTurn&\\\n",
    "routeAttributes=routeAttributes&\\\n",
    "maxSolutions=maxSolutions&\\\n",
    "tolerances=tolerance1,tolerance2,tolerancen&\\\n",
    "distanceUnit=distanceUnit&\\\n",
    "mfa=mfa&\\\n",
    "key=BingMapsKey\n",
    "'''"
   ]
  },
  {
   "cell_type": "code",
   "execution_count": null,
   "metadata": {
    "collapsed": true
   },
   "outputs": [],
   "source": []
  },
  {
   "cell_type": "code",
   "execution_count": null,
   "metadata": {
    "collapsed": true
   },
   "outputs": [],
   "source": []
  },
  {
   "cell_type": "code",
   "execution_count": null,
   "metadata": {
    "collapsed": true
   },
   "outputs": [],
   "source": []
  }
 ],
 "metadata": {
  "kernelspec": {
   "display_name": "Python 2",
   "language": "python",
   "name": "python2"
  },
  "language_info": {
   "codemirror_mode": {
    "name": "ipython",
    "version": 2
   },
   "file_extension": ".py",
   "mimetype": "text/x-python",
   "name": "python",
   "nbconvert_exporter": "python",
   "pygments_lexer": "ipython2",
   "version": "2.7.9"
  }
 },
 "nbformat": 4,
 "nbformat_minor": 0
}
